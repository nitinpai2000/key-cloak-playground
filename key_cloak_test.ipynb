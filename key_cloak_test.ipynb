{
 "cells": [
  {
   "cell_type": "markdown",
   "metadata": {},
   "source": [
    "## Package Imports and Variables"
   ]
  },
  {
   "cell_type": "code",
   "execution_count": null,
   "metadata": {},
   "outputs": [],
   "source": [
    "import requests\n",
    "\n",
    "keycloak_root = \"http://localhost:8642\"\n",
    "keycloak_admin = \"admin\"\n",
    "keycloak_admin_password = \"admin\""
   ]
  },
  {
   "cell_type": "markdown",
   "metadata": {},
   "source": [
    "## Get Access Token"
   ]
  },
  {
   "cell_type": "code",
   "execution_count": null,
   "metadata": {},
   "outputs": [],
   "source": [
    "resp = requests.post(\n",
    "    f\"{keycloak_root}/realms/master/protocol/openid-connect/token\",\n",
    "    data={\n",
    "        \"client_id\": \"admin-cli\",\n",
    "        \"username\": keycloak_admin,\n",
    "        \"password\": keycloak_admin_password,\n",
    "        \"grant_type\": \"password\"\n",
    "    }\n",
    ")\n",
    "resp.raise_for_status()\n",
    "data = resp.json()\n",
    "access_token = data[\"access_token\"]\n",
    "print(f\"{access_token[:20]}...{access_token[-20:]}\")\n",
    "print(f\"Expires in {data['expires_in']}s\")\n",
    "\n",
    "# Predefine authorization headers for later use.\n",
    "auth_headers = {\n",
    "    \"Authorization\": f\"Bearer {access_token}\",\n",
    "}"
   ]
  },
  {
   "cell_type": "markdown",
   "metadata": {},
   "source": [
    "## Get Realms"
   ]
  },
  {
   "cell_type": "code",
   "execution_count": null,
   "metadata": {},
   "outputs": [],
   "source": [
    "resp = requests.get(\n",
    "    f\"{keycloak_root}/admin/realms\",\n",
    "    headers=auth_headers,\n",
    ")\n",
    "resp.raise_for_status()\n",
    "[r[\"realm\"] for r in resp.json()]"
   ]
  },
  {
   "cell_type": "markdown",
   "metadata": {},
   "source": [
    "## Create Realm"
   ]
  },
  {
   "cell_type": "code",
   "execution_count": null,
   "metadata": {},
   "outputs": [],
   "source": [
    "# Name of our fancy realm.\n",
    "realm = \"myrealm\""
   ]
  },
  {
   "cell_type": "code",
   "execution_count": null,
   "metadata": {},
   "outputs": [],
   "source": [
    "resp = requests.post(\n",
    "    f\"{keycloak_root}/admin/realms\",\n",
    "    headers=auth_headers,\n",
    "    json={\n",
    "        \"realm\": realm,\n",
    "        \"enabled\": True\n",
    "    }\n",
    ")\n",
    "resp.raise_for_status()"
   ]
  },
  {
   "cell_type": "markdown",
   "metadata": {},
   "source": [
    "## List Realms"
   ]
  },
  {
   "cell_type": "code",
   "execution_count": null,
   "metadata": {},
   "outputs": [],
   "source": [
    "resp = requests.get(\n",
    "    f\"{keycloak_root}/admin/realms\",\n",
    "    headers=auth_headers,\n",
    ")\n",
    "resp.raise_for_status()\n",
    "[r[\"realm\"] for r in resp.json()]"
   ]
  },
  {
   "cell_type": "markdown",
   "metadata": {},
   "source": [
    "## Create Client"
   ]
  },
  {
   "cell_type": "code",
   "execution_count": null,
   "metadata": {},
   "outputs": [],
   "source": [
    "client_id = \"fancy-client-1\"\n",
    "\n",
    "client_settings = {\n",
    "    \"protocol\": \"openid-connect\",\n",
    "    \"clientId\": client_id,\n",
    "    \"enabled\": True,\n",
    "    # Public: no client secret. Non-public: \"confidential\" client with secret.\n",
    "    \"publicClient\": True,\n",
    "    # Authorization Code Flow\n",
    "    \"standardFlowEnabled\": True,\n",
    "    # Service accounts: Client Credentials Grant\n",
    "    \"serviceAccountsEnabled\": False,\n",
    "    # Direct Access: Resource Owner Password Credentials Grant\n",
    "    \"directAccessGrantsEnabled\": True,\n",
    "    \"attributes\": {\n",
    "        # Device authorization grant\n",
    "        \"oauth2.device.authorization.grant.enabled\": True,\n",
    "    }\n",
    "}\n",
    "\n",
    "resp = requests.post(\n",
    "    f\"{keycloak_root}/admin/realms/{realm}/clients\",\n",
    "    json=client_settings,\n",
    "    headers=auth_headers,\n",
    ")\n",
    "resp.raise_for_status()\n",
    "location = resp.headers[\"Location\"]\n",
    "print(location)"
   ]
  },
  {
   "cell_type": "markdown",
   "metadata": {},
   "source": [
    "## Get Client Details"
   ]
  },
  {
   "cell_type": "code",
   "execution_count": null,
   "metadata": {},
   "outputs": [],
   "source": [
    "requests.get(\n",
    "    location,\n",
    "    headers=auth_headers,\n",
    ").json()"
   ]
  },
  {
   "cell_type": "markdown",
   "metadata": {},
   "source": [
    "## Create User"
   ]
  },
  {
   "cell_type": "code",
   "execution_count": null,
   "metadata": {},
   "outputs": [],
   "source": [
    "username = \"bob\"\n",
    "password = \"bob\"\n",
    "\n",
    "user_settings = {\n",
    "    \"username\": username,\n",
    "    \"enabled\": True,\n",
    "    \"credentials\": [{\n",
    "        \"type\": \"password\",\n",
    "        \"value\": password,\n",
    "        \"temporary\": False,\n",
    "    }]\n",
    "}\n",
    "\n",
    "\n",
    "resp = requests.post(\n",
    "    f\"{keycloak_root}/admin/realms/{realm}/users\",\n",
    "    json=user_settings,\n",
    "    headers=auth_headers,\n",
    ")\n",
    "resp.raise_for_status()\n",
    "location = resp.headers[\"Location\"]\n",
    "print(location)"
   ]
  },
  {
   "cell_type": "markdown",
   "metadata": {},
   "source": [
    "## Get User Details"
   ]
  },
  {
   "cell_type": "code",
   "execution_count": null,
   "metadata": {},
   "outputs": [],
   "source": [
    "requests.get(\n",
    "    location,\n",
    "    headers=auth_headers,\n",
    ").json()"
   ]
  },
  {
   "cell_type": "markdown",
   "metadata": {},
   "source": [
    "## Get Token Endpoint of the Realm"
   ]
  },
  {
   "cell_type": "code",
   "execution_count": null,
   "metadata": {},
   "outputs": [],
   "source": [
    "token_endpoint = requests.get(\n",
    "    f\"{keycloak_root}/realms/{realm}/.well-known/openid-configuration\"\n",
    ").json()[\"token_endpoint\"]\n",
    "print(token_endpoint)"
   ]
  },
  {
   "cell_type": "markdown",
   "metadata": {},
   "source": [
    "## Do the token request"
   ]
  },
  {
   "cell_type": "code",
   "execution_count": null,
   "metadata": {},
   "outputs": [],
   "source": [
    "resp = requests.post(\n",
    "    token_endpoint,\n",
    "    data={\n",
    "        \"client_id\": client_id,\n",
    "        \"username\": username,\n",
    "        \"password\": password,\n",
    "        \"grant_type\": \"password\",\n",
    "    }\n",
    ")\n",
    "resp.raise_for_status()\n",
    "resp.json()"
   ]
  }
 ],
 "metadata": {
  "kernelspec": {
   "display_name": "venv",
   "language": "python",
   "name": "python3"
  },
  "language_info": {
   "codemirror_mode": {
    "name": "ipython",
    "version": 3
   },
   "file_extension": ".py",
   "mimetype": "text/x-python",
   "name": "python",
   "nbconvert_exporter": "python",
   "pygments_lexer": "ipython3",
   "version": "3.10.6"
  }
 },
 "nbformat": 4,
 "nbformat_minor": 2
}
